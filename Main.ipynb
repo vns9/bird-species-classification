{
  "cells": [
    {
      "cell_type": "code",
      "execution_count": null,
      "metadata": {
        "id": "VxxGw-m6Psw4"
      },
      "outputs": [],
      "source": [
        "import keras\n",
        "import tensorflow as tf\n",
        "import cv2\n",
        "import os\n",
        "import numpy as np\n",
        "import sklearn\n",
        "import matplotlib.pyplot as plt\n",
        "from keras.applications.vgg16 import VGG16\n",
        "from keras.applications import EfficientNetB0\n",
        "from keras.callbacks import EarlyStopping\n",
        "from sklearn.metrics import f1_score, precision_score, recall_score, classification_report\n",
        "\n",
        "import warnings\n",
        "warnings.filterwarnings(\"ignore\")\n",
        "tf.get_logger().setLevel('ERROR')"
      ]
    },
    {
      "cell_type": "code",
      "execution_count": null,
      "metadata": {
        "id": "jSwiQpd4P9ZB",
        "colab": {
          "base_uri": "https://localhost:8080/"
        },
        "outputId": "ab749198-fa6f-4053-eb70-45ae0062281e"
      },
      "outputs": [
        {
          "output_type": "stream",
          "name": "stdout",
          "text": [
            "Drive already mounted at /content/gdrive; to attempt to forcibly remount, call drive.mount(\"/content/gdrive\", force_remount=True).\n"
          ]
        }
      ],
      "source": [
        "from google.colab import drive\n",
        "drive.mount(\"/content/gdrive\")"
      ]
    },
    {
      "cell_type": "markdown",
      "metadata": {
        "id": "NHueFLyVl5dO"
      },
      "source": [
        "- **NOTES**: `image_dataset_from_directory` will automatically zero-pad and resize the images based on the `image_size` parameter provided. VGG16 takes in images of shape `(224,224)` for each channel."
      ]
    },
    {
      "cell_type": "code",
      "execution_count": null,
      "metadata": {
        "id": "kq-kz_1iQMQk",
        "colab": {
          "base_uri": "https://localhost:8080/"
        },
        "outputId": "3f079a74-d8c6-4341-abf0-dca6845b891e"
      },
      "outputs": [
        {
          "output_type": "stream",
          "name": "stdout",
          "text": [
            "Found 1176 files belonging to 20 classes.\n",
            "Using 824 files for training.\n",
            "Found 1176 files belonging to 20 classes.\n",
            "Using 352 files for validation.\n",
            "Train size: 824\n",
            "Validation size: 176\n",
            "Test size: 176\n"
          ]
        }
      ],
      "source": [
        "train = tf.keras.utils.image_dataset_from_directory(\n",
        "    '/content/gdrive/My Drive/data/images/',\n",
        "    labels='inferred',\n",
        "    label_mode='categorical',\n",
        "    class_names=None,\n",
        "    color_mode='rgb',\n",
        "    batch_size=None,\n",
        "    image_size=(224, 224),\n",
        "    seed=2022,\n",
        "    validation_split=0.30,\n",
        "    subset=\"training\",\n",
        "    interpolation='bilinear',\n",
        "    follow_links=False,\n",
        "    crop_to_aspect_ratio=False,\n",
        ")\n",
        "\n",
        "val = tf.keras.utils.image_dataset_from_directory(\n",
        "    '/content/gdrive/My Drive/data/images/',\n",
        "    labels='inferred',\n",
        "    label_mode='categorical',\n",
        "    class_names=None,\n",
        "    color_mode='rgb',\n",
        "    batch_size=None,\n",
        "    image_size=(224, 224),\n",
        "    seed=2022,\n",
        "    validation_split=0.30,\n",
        "    subset=\"validation\",\n",
        "    interpolation='bilinear',\n",
        "    follow_links=False,\n",
        "    crop_to_aspect_ratio=False,\n",
        ")\n",
        "\n",
        "'''\n",
        "Splitting image dataset into train, test and validation\n",
        "https://stackoverflow.com/questions/66036271/splitting-a-tensorflow-dataset-into-training-test-and-validation-sets-from-ker\n",
        "'''\n",
        "test_size = int(len(val)*0.5)\n",
        "test = val.take(test_size)\n",
        "val = val.skip(test_size)\n",
        "print('Train size:', len(train))\n",
        "print('Validation size:', len(val))\n",
        "print('Test size:', len(test))\n",
        "train = train.batch(32)\n",
        "val = val.batch(32)\n",
        "test = test.batch(176)"
      ]
    },
    {
      "cell_type": "markdown",
      "metadata": {
        "id": "JBFwoyRtmYly"
      },
      "source": [
        "- **NOTES**: Set `model.trainable` to `False` to use the pretrained weights for Transfer learning."
      ]
    },
    {
      "cell_type": "code",
      "execution_count": null,
      "metadata": {
        "id": "OX0epTfNSaVh"
      },
      "outputs": [],
      "source": [
        "vgg = VGG16(weights='imagenet', include_top=False, input_shape = (224, 224, 3))\n",
        "vgg.trainable = False\n",
        "# print(vgg.summary())\n",
        "\n",
        "efficientNet = EfficientNetB0(weights='imagenet', include_top=False, input_shape = (224, 224, 3))\n",
        "efficientNet.trainable = False\n",
        "# print(efficientNet.summary())"
      ]
    },
    {
      "cell_type": "markdown",
      "metadata": {
        "id": "hwk0TTR5msWD"
      },
      "source": [
        "- **NOTES**: Keras comes with a decent set of image augmentation methods for Flip, Rotation, Zoom, Contrast. We can use them as a layer in our Sequential Keras model.\n",
        "- **OBSERVATION**: Cropping and translating the images using the `tf.keras.layers.RandomTranslation` & `tf.keras.layers.RandomCrop` is not helping and is hurting the model performance. Hence, they are not present \n",
        "\n"
      ]
    },
    {
      "cell_type": "code",
      "execution_count": null,
      "metadata": {
        "id": "-W8eQpJMm7_d"
      },
      "outputs": [],
      "source": [
        "image_augmentation = tf.keras.Sequential([\n",
        "    tf.keras.layers.RandomFlip(\"horizontal_and_vertical\"),\n",
        "    tf.keras.layers.RandomRotation(0.1),\n",
        "    tf.keras.layers.RandomZoom(0.1),\n",
        "    tf.keras.layers.RandomContrast(0.1)\n",
        "])"
      ]
    },
    {
      "cell_type": "markdown",
      "metadata": {
        "id": "XHpRqwsDmzYs"
      },
      "source": [
        "- **NOTES**: Setting batch size to 32, as batch size of 5 is performing poorly on the test set."
      ]
    },
    {
      "cell_type": "code",
      "execution_count": null,
      "metadata": {
        "colab": {
          "base_uri": "https://localhost:8080/"
        },
        "id": "s9CnQKmQSfqC",
        "outputId": "00a0a033-46a4-403b-fbb3-e46daa9372a8"
      },
      "outputs": [
        {
          "output_type": "stream",
          "name": "stdout",
          "text": [
            "Epoch 1/100\n",
            "26/26 [==============================] - 20s 365ms/step - loss: 3.6110 - accuracy: 0.2209 - val_loss: 9.9120 - val_accuracy: 0.3920\n",
            "Epoch 2/100\n",
            "26/26 [==============================] - 11s 343ms/step - loss: 2.0198 - accuracy: 0.5255 - val_loss: 6.7745 - val_accuracy: 0.4659\n",
            "Epoch 3/100\n",
            "26/26 [==============================] - 11s 340ms/step - loss: 1.5897 - accuracy: 0.6214 - val_loss: 4.6562 - val_accuracy: 0.5227\n",
            "Epoch 4/100\n",
            "26/26 [==============================] - 11s 337ms/step - loss: 1.3453 - accuracy: 0.6748 - val_loss: 4.1203 - val_accuracy: 0.5682\n",
            "Epoch 5/100\n",
            "26/26 [==============================] - 12s 381ms/step - loss: 1.1325 - accuracy: 0.7257 - val_loss: 3.7018 - val_accuracy: 0.6023\n",
            "Epoch 6/100\n",
            "26/26 [==============================] - 11s 344ms/step - loss: 0.9680 - accuracy: 0.7306 - val_loss: 2.6668 - val_accuracy: 0.6364\n",
            "Epoch 7/100\n",
            "26/26 [==============================] - 11s 339ms/step - loss: 0.8945 - accuracy: 0.7670 - val_loss: 2.8151 - val_accuracy: 0.6250\n",
            "Epoch 8/100\n",
            "26/26 [==============================] - 11s 340ms/step - loss: 0.7608 - accuracy: 0.7949 - val_loss: 2.5577 - val_accuracy: 0.6761\n",
            "Epoch 9/100\n",
            "26/26 [==============================] - 11s 340ms/step - loss: 0.7140 - accuracy: 0.8010 - val_loss: 2.7849 - val_accuracy: 0.5966\n",
            "Epoch 10/100\n",
            "26/26 [==============================] - 11s 339ms/step - loss: 0.6276 - accuracy: 0.8350 - val_loss: 2.7397 - val_accuracy: 0.6250\n",
            "Epoch 11/100\n",
            "26/26 [==============================] - 11s 340ms/step - loss: 0.5497 - accuracy: 0.8337 - val_loss: 3.1513 - val_accuracy: 0.6420\n",
            "Epoch 12/100\n",
            "26/26 [==============================] - 11s 343ms/step - loss: 0.5124 - accuracy: 0.8507 - val_loss: 3.0489 - val_accuracy: 0.6080\n",
            "Epoch 13/100\n",
            "26/26 [==============================] - 11s 340ms/step - loss: 0.4915 - accuracy: 0.8677 - val_loss: 3.3710 - val_accuracy: 0.6193\n",
            "Epoch 14/100\n",
            "26/26 [==============================] - 11s 346ms/step - loss: 0.4174 - accuracy: 0.8750 - val_loss: 3.1472 - val_accuracy: 0.6136\n",
            "Epoch 15/100\n",
            "26/26 [==============================] - 11s 342ms/step - loss: 0.3456 - accuracy: 0.8944 - val_loss: 2.8755 - val_accuracy: 0.6250\n",
            "Epoch 16/100\n",
            "26/26 [==============================] - 11s 341ms/step - loss: 0.3399 - accuracy: 0.8968 - val_loss: 3.0484 - val_accuracy: 0.6023\n",
            "Epoch 17/100\n",
            "26/26 [==============================] - 12s 353ms/step - loss: 0.4051 - accuracy: 0.8896 - val_loss: 2.7672 - val_accuracy: 0.6761\n",
            "Epoch 18/100\n",
            "26/26 [==============================] - 11s 345ms/step - loss: 0.3433 - accuracy: 0.9090 - val_loss: 3.0984 - val_accuracy: 0.6420\n"
          ]
        }
      ],
      "source": [
        "model = tf.keras.Sequential([\n",
        "    image_augmentation,\n",
        "    vgg,\n",
        "    tf.keras.layers.Flatten(),\n",
        "    tf.keras.layers.BatchNormalization(),\n",
        "    tf.keras.layers.Dense(100, activation='relu'),\n",
        "    tf.keras.layers.Dropout(0.2),\n",
        "    tf.keras.layers.Dense(20, activation='softmax')\n",
        "])\n",
        "\n",
        "model.compile(optimizer='adam', loss=tf.keras.losses.CategoricalCrossentropy(), metrics=['accuracy'])\n",
        "earlyStopping = EarlyStopping(monitor='val_accuracy', mode='max', patience=10, restore_best_weights=True)\n",
        "\n",
        "model_hist = model.fit(train, epochs=100, validation_data = val, callbacks=[earlyStopping])"
      ]
    },
    {
      "cell_type": "code",
      "execution_count": null,
      "metadata": {
        "colab": {
          "base_uri": "https://localhost:8080/"
        },
        "id": "TgF8GWE8ggjp",
        "outputId": "cfe7912c-7bf2-44cf-9568-e10739932161"
      },
      "outputs": [
        {
          "output_type": "stream",
          "name": "stdout",
          "text": [
            "Test set results for VGG16\n",
            "6/6 [==============================] - 1s 144ms/step\n",
            "              precision    recall  f1-score   support\n",
            "\n",
            "           0       0.80      0.80      0.80         5\n",
            "           1       0.70      0.88      0.78         8\n",
            "           2       0.64      0.54      0.58        13\n",
            "           3       0.62      0.56      0.59         9\n",
            "           4       0.83      0.62      0.71         8\n",
            "           5       0.73      0.62      0.67        13\n",
            "           6       0.62      0.71      0.67         7\n",
            "           7       0.33      1.00      0.50         2\n",
            "           8       0.60      0.30      0.40        10\n",
            "           9       0.80      0.89      0.84         9\n",
            "          10       0.62      0.71      0.67         7\n",
            "          11       0.73      1.00      0.84         8\n",
            "          12       0.90      0.69      0.78        13\n",
            "          13       0.67      0.71      0.69        14\n",
            "          14       0.31      0.44      0.36         9\n",
            "          15       0.75      0.38      0.50         8\n",
            "          16       0.88      0.78      0.82         9\n",
            "          17       0.50      0.50      0.50         8\n",
            "          18       0.36      0.57      0.44         7\n",
            "          19       1.00      0.89      0.94         9\n",
            "\n",
            "   micro avg       0.66      0.66      0.66       176\n",
            "   macro avg       0.67      0.68      0.65       176\n",
            "weighted avg       0.69      0.66      0.66       176\n",
            " samples avg       0.66      0.66      0.66       176\n",
            "\n"
          ]
        }
      ],
      "source": [
        "print('Test set results for VGG16')\n",
        "\n",
        "for test_ in test:\n",
        "    test_features, test_labels = test_\n",
        "    test_labels_predicted = tf.one_hot(tf.argmax(model.predict(test_features), axis = 1), depth = 20)\n",
        "    test_labels_predicted = test_labels_predicted.numpy()\n",
        "    test_labels = test_labels.numpy()\n",
        "    print(classification_report(test_labels, test_labels_predicted))"
      ]
    },
    {
      "cell_type": "code",
      "execution_count": null,
      "metadata": {
        "colab": {
          "base_uri": "https://localhost:8080/"
        },
        "id": "9A2Nl1hLlofw",
        "outputId": "e7cbf324-55d2-462b-a773-6a1ec8354eee"
      },
      "outputs": [
        {
          "output_type": "stream",
          "name": "stdout",
          "text": [
            "Epoch 1/100\n",
            "26/26 [==============================] - 19s 314ms/step - loss: 6.5871 - accuracy: 0.3325 - val_loss: 4.0107 - val_accuracy: 0.6250\n",
            "Epoch 2/100\n",
            "26/26 [==============================] - 9s 252ms/step - loss: 4.1667 - accuracy: 0.5850 - val_loss: 3.0413 - val_accuracy: 0.7273\n",
            "Epoch 3/100\n",
            "26/26 [==============================] - 9s 247ms/step - loss: 3.0158 - accuracy: 0.7002 - val_loss: 2.3936 - val_accuracy: 0.7727\n",
            "Epoch 4/100\n",
            "26/26 [==============================] - 9s 257ms/step - loss: 2.2041 - accuracy: 0.7779 - val_loss: 1.9155 - val_accuracy: 0.8011\n",
            "Epoch 5/100\n",
            "26/26 [==============================] - 9s 252ms/step - loss: 2.3478 - accuracy: 0.7949 - val_loss: 2.6337 - val_accuracy: 0.7670\n",
            "Epoch 6/100\n",
            "26/26 [==============================] - 9s 260ms/step - loss: 1.7673 - accuracy: 0.8095 - val_loss: 2.4914 - val_accuracy: 0.8068\n",
            "Epoch 7/100\n",
            "26/26 [==============================] - 9s 260ms/step - loss: 1.7512 - accuracy: 0.8265 - val_loss: 2.7752 - val_accuracy: 0.7727\n",
            "Epoch 8/100\n",
            "26/26 [==============================] - 9s 251ms/step - loss: 1.4457 - accuracy: 0.8483 - val_loss: 2.0632 - val_accuracy: 0.8068\n",
            "Epoch 9/100\n",
            "26/26 [==============================] - 9s 257ms/step - loss: 1.2436 - accuracy: 0.8568 - val_loss: 1.7518 - val_accuracy: 0.8182\n",
            "Epoch 10/100\n",
            "26/26 [==============================] - 9s 254ms/step - loss: 1.2263 - accuracy: 0.8580 - val_loss: 2.0012 - val_accuracy: 0.8295\n",
            "Epoch 11/100\n",
            "26/26 [==============================] - 9s 279ms/step - loss: 1.0360 - accuracy: 0.8859 - val_loss: 2.0624 - val_accuracy: 0.8011\n",
            "Epoch 12/100\n",
            "26/26 [==============================] - 9s 253ms/step - loss: 1.1995 - accuracy: 0.8981 - val_loss: 2.4149 - val_accuracy: 0.7898\n",
            "Epoch 13/100\n",
            "26/26 [==============================] - 9s 253ms/step - loss: 0.8771 - accuracy: 0.8896 - val_loss: 1.7817 - val_accuracy: 0.8182\n",
            "Epoch 14/100\n",
            "26/26 [==============================] - 9s 253ms/step - loss: 1.0522 - accuracy: 0.8981 - val_loss: 2.8849 - val_accuracy: 0.7784\n",
            "Epoch 15/100\n",
            "26/26 [==============================] - 9s 258ms/step - loss: 1.0001 - accuracy: 0.8908 - val_loss: 1.5774 - val_accuracy: 0.8523\n",
            "Epoch 16/100\n",
            "26/26 [==============================] - 9s 254ms/step - loss: 0.7052 - accuracy: 0.9102 - val_loss: 3.2509 - val_accuracy: 0.7841\n",
            "Epoch 17/100\n",
            "26/26 [==============================] - 9s 249ms/step - loss: 0.8247 - accuracy: 0.9029 - val_loss: 2.9169 - val_accuracy: 0.8068\n",
            "Epoch 18/100\n",
            "26/26 [==============================] - 9s 250ms/step - loss: 0.6563 - accuracy: 0.9175 - val_loss: 2.3562 - val_accuracy: 0.8239\n",
            "Epoch 19/100\n",
            "26/26 [==============================] - 9s 253ms/step - loss: 0.7424 - accuracy: 0.9041 - val_loss: 2.4925 - val_accuracy: 0.8182\n",
            "Epoch 20/100\n",
            "26/26 [==============================] - 9s 255ms/step - loss: 0.8570 - accuracy: 0.9163 - val_loss: 2.8988 - val_accuracy: 0.8409\n",
            "Epoch 21/100\n",
            "26/26 [==============================] - 9s 253ms/step - loss: 0.7664 - accuracy: 0.9223 - val_loss: 2.6977 - val_accuracy: 0.8182\n",
            "Epoch 22/100\n",
            "26/26 [==============================] - 9s 256ms/step - loss: 0.7143 - accuracy: 0.9126 - val_loss: 1.5076 - val_accuracy: 0.8580\n",
            "Epoch 23/100\n",
            "26/26 [==============================] - 9s 258ms/step - loss: 0.5586 - accuracy: 0.9248 - val_loss: 1.4916 - val_accuracy: 0.8636\n",
            "Epoch 24/100\n",
            "26/26 [==============================] - 9s 256ms/step - loss: 0.6843 - accuracy: 0.9187 - val_loss: 1.8462 - val_accuracy: 0.8352\n",
            "Epoch 25/100\n",
            "26/26 [==============================] - 9s 253ms/step - loss: 0.5869 - accuracy: 0.9381 - val_loss: 2.7727 - val_accuracy: 0.8295\n",
            "Epoch 26/100\n",
            "26/26 [==============================] - 9s 258ms/step - loss: 0.7136 - accuracy: 0.9163 - val_loss: 1.9370 - val_accuracy: 0.8750\n",
            "Epoch 27/100\n",
            "26/26 [==============================] - 9s 251ms/step - loss: 0.3763 - accuracy: 0.9502 - val_loss: 2.1447 - val_accuracy: 0.8523\n",
            "Epoch 28/100\n",
            "26/26 [==============================] - 10s 293ms/step - loss: 0.4644 - accuracy: 0.9454 - val_loss: 2.4764 - val_accuracy: 0.8466\n",
            "Epoch 29/100\n",
            "26/26 [==============================] - 9s 257ms/step - loss: 0.5137 - accuracy: 0.9333 - val_loss: 2.6333 - val_accuracy: 0.8295\n",
            "Epoch 30/100\n",
            "26/26 [==============================] - 9s 248ms/step - loss: 0.4545 - accuracy: 0.9333 - val_loss: 1.6979 - val_accuracy: 0.8636\n",
            "Epoch 31/100\n",
            "26/26 [==============================] - 9s 250ms/step - loss: 0.5018 - accuracy: 0.9442 - val_loss: 2.3180 - val_accuracy: 0.8125\n",
            "Epoch 32/100\n",
            "26/26 [==============================] - 9s 255ms/step - loss: 0.4419 - accuracy: 0.9417 - val_loss: 1.9282 - val_accuracy: 0.8352\n",
            "Epoch 33/100\n",
            "26/26 [==============================] - 9s 251ms/step - loss: 0.5704 - accuracy: 0.9369 - val_loss: 3.2362 - val_accuracy: 0.7898\n",
            "Epoch 34/100\n",
            "26/26 [==============================] - 9s 249ms/step - loss: 0.7143 - accuracy: 0.9369 - val_loss: 2.2023 - val_accuracy: 0.8125\n",
            "Epoch 35/100\n",
            "26/26 [==============================] - 9s 254ms/step - loss: 0.6390 - accuracy: 0.9345 - val_loss: 1.6977 - val_accuracy: 0.8466\n",
            "Epoch 36/100\n",
            "26/26 [==============================] - 9s 256ms/step - loss: 0.4246 - accuracy: 0.9551 - val_loss: 2.3434 - val_accuracy: 0.8409\n"
          ]
        }
      ],
      "source": [
        "model2 = tf.keras.Sequential([\n",
        "    image_augmentation,\n",
        "    efficientNet,\n",
        "    tf.keras.layers.Flatten(),\n",
        "    tf.keras.layers.BatchNormalization(),\n",
        "    tf.keras.layers.Dense(100, activation='relu'),\n",
        "    tf.keras.layers.Dropout(0.2),\n",
        "    tf.keras.layers.Dense(20, activation='softmax')\n",
        "])\n",
        "\n",
        "model2.compile(optimizer='adam', loss=tf.keras.losses.CategoricalCrossentropy(), metrics=['accuracy'])\n",
        "earlyStopping2 = EarlyStopping(monitor='val_accuracy', mode='max', patience=10, restore_best_weights=True)\n",
        "\n",
        "model2_hist = model2.fit(train, epochs=100, validation_data = val, callbacks=[earlyStopping2])"
      ]
    },
    {
      "cell_type": "code",
      "execution_count": null,
      "metadata": {
        "colab": {
          "base_uri": "https://localhost:8080/"
        },
        "id": "P3_NRFY7lquv",
        "outputId": "07c75437-8c16-4e6d-c25e-f07dabdc44ba"
      },
      "outputs": [
        {
          "output_type": "stream",
          "name": "stdout",
          "text": [
            "Test set results for EfficientNetB0\n",
            "6/6 [==============================] - 1s 143ms/step\n",
            "              precision    recall  f1-score   support\n",
            "\n",
            "           0       1.00      0.90      0.95        10\n",
            "           1       0.92      0.69      0.79        16\n",
            "           2       0.73      0.73      0.73        11\n",
            "           3       0.67      0.44      0.53         9\n",
            "           4       0.60      0.60      0.60         5\n",
            "           5       0.46      0.67      0.55         9\n",
            "           6       0.75      0.75      0.75         4\n",
            "           7       0.89      0.80      0.84        10\n",
            "           8       0.60      0.38      0.46         8\n",
            "           9       0.83      0.62      0.71         8\n",
            "          10       0.67      0.75      0.71         8\n",
            "          11       0.64      1.00      0.78         7\n",
            "          12       0.80      0.57      0.67         7\n",
            "          13       0.69      0.75      0.72        12\n",
            "          14       0.38      0.50      0.43         6\n",
            "          15       0.50      0.33      0.40         9\n",
            "          16       0.90      0.90      0.90        10\n",
            "          17       0.70      0.64      0.67        11\n",
            "          18       0.36      0.71      0.48         7\n",
            "          19       0.80      0.89      0.84         9\n",
            "\n",
            "   micro avg       0.69      0.69      0.69       176\n",
            "   macro avg       0.69      0.68      0.67       176\n",
            "weighted avg       0.72      0.69      0.69       176\n",
            " samples avg       0.69      0.69      0.69       176\n",
            "\n"
          ]
        }
      ],
      "source": [
        "print('Test set results for EfficientNetB0')\n",
        "\n",
        "for test_ in test:\n",
        "    test_features, test_labels = test_\n",
        "    test_labels_predicted = tf.one_hot(tf.argmax(model.predict(test_features), axis = 1), depth = 20)\n",
        "    test_labels_predicted = test_labels_predicted.numpy()\n",
        "    test_labels = test_labels.numpy()\n",
        "    print(classification_report(test_labels, test_labels_predicted))"
      ]
    },
    {
      "cell_type": "markdown",
      "metadata": {
        "id": "iAO6NqLHnCea"
      },
      "source": [
        "Plot the training and validation errors vs. epochs."
      ]
    },
    {
      "cell_type": "code",
      "execution_count": null,
      "metadata": {
        "colab": {
          "base_uri": "https://localhost:8080/",
          "height": 295
        },
        "id": "T9W0fOuDTz73",
        "outputId": "debf1949-6ea0-4a81-ec8a-c0b9575847ca"
      },
      "outputs": [
        {
          "output_type": "display_data",
          "data": {
            "text/plain": [
              "<Figure size 432x288 with 1 Axes>"
            ],
            "image/png": "[encoded data removed]"
          },
          "metadata": {
            "needs_background": "light"
          }
        }
      ],
      "source": [
        "plt.plot(model_hist.history[\"loss\"])\n",
        "plt.plot(model_hist.history['val_loss'])\n",
        "plt.title('Train and Validation Errors Epochs - VGG16')\n",
        "plt.ylabel('Error')\n",
        "plt.xlabel('Epoch')\n",
        "plt.legend(['train', 'val'], loc='auto')\n",
        "plt.show()"
      ]
    },
    {
      "cell_type": "code",
      "execution_count": null,
      "metadata": {
        "colab": {
          "base_uri": "https://localhost:8080/",
          "height": 295
        },
        "id": "PBJn4kenUKQE",
        "outputId": "d1f60117-9e98-4904-87e1-d070b6e755b0"
      },
      "outputs": [
        {
          "output_type": "display_data",
          "data": {
            "text/plain": [
              "<Figure size 432x288 with 1 Axes>"
            ],
            "image/png": "[encoded data removed]"
          },
          "metadata": {
            "needs_background": "light"
          }
        }
      ],
      "source": [
        "plt.plot(model2_hist.history['loss'])\n",
        "plt.plot(model2_hist.history['val_loss'])\n",
        "plt.title('Train and Validation Errors Epochs - EfficientNetB0')\n",
        "plt.ylabel('Error')\n",
        "plt.xlabel('Epoch')\n",
        "plt.legend(['train', 'val'], loc='auto')\n",
        "plt.show()"
      ]
    }
  ],
  "metadata": {
    "accelerator": "GPU",
    "colab": {
      "provenance": []
    },
    "gpuClass": "standard",
    "kernelspec": {
      "display_name": "Python 3",
      "name": "python3"
    },
    "language_info": {
      "name": "python"
    }
  },
  "nbformat": 4,
  "nbformat_minor": 0
}